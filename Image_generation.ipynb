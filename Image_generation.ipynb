{
  "cells": [
    {
      "cell_type": "code",
      "execution_count": 1,
      "metadata": {
        "colab": {
          "base_uri": "https://localhost:8080/"
        },
        "id": "VYcOT0hYISMX",
        "outputId": "73c65786-cdf6-4c09-c996-5cf6b17e754c"
      },
      "outputs": [
        {
          "name": "stdout",
          "output_type": "stream",
          "text": [
            "Defaulting to user installation because normal site-packages is not writeable\n",
            "Collecting together\n",
            "  Downloading together-0.2.11-py3-none-any.whl (43 kB)\n",
            "\u001b[K     |████████████████████████████████| 43 kB 2.9 MB/s eta 0:00:01\n",
            "\u001b[?25hRequirement already satisfied: aiohttp<4.0.0,>=3.7.4 in /Users/alenachan/Library/Python/3.9/lib/python/site-packages (from together) (3.9.3)\n",
            "Collecting pydantic<3.0.0,>=2.5.0\n",
            "  Downloading pydantic-2.6.1-py3-none-any.whl (394 kB)\n",
            "\u001b[K     |████████████████████████████████| 394 kB 5.7 MB/s eta 0:00:01\n",
            "\u001b[?25hRequirement already satisfied: requests<3.0.0,>=2.31.0 in /Users/alenachan/Library/Python/3.9/lib/python/site-packages (from together) (2.31.0)\n",
            "Collecting sseclient-py<2.0.0,>=1.7.2\n",
            "  Downloading sseclient_py-1.8.0-py2.py3-none-any.whl (8.8 kB)\n",
            "Requirement already satisfied: tqdm<5.0.0,>=4.66.1 in /Users/alenachan/Library/Python/3.9/lib/python/site-packages (from together) (4.66.1)\n",
            "Collecting typer<0.10.0,>=0.9.0\n",
            "  Downloading typer-0.9.0-py3-none-any.whl (45 kB)\n",
            "\u001b[K     |████████████████████████████████| 45 kB 13.3 MB/s eta 0:00:01\n",
            "\u001b[?25hCollecting tabulate<0.10.0,>=0.9.0\n",
            "  Downloading tabulate-0.9.0-py3-none-any.whl (35 kB)\n",
            "Requirement already satisfied: yarl<2.0,>=1.0 in /Users/alenachan/Library/Python/3.9/lib/python/site-packages (from aiohttp<4.0.0,>=3.7.4->together) (1.9.4)\n",
            "Requirement already satisfied: multidict<7.0,>=4.5 in /Users/alenachan/Library/Python/3.9/lib/python/site-packages (from aiohttp<4.0.0,>=3.7.4->together) (6.0.5)\n",
            "Requirement already satisfied: frozenlist>=1.1.1 in /Users/alenachan/Library/Python/3.9/lib/python/site-packages (from aiohttp<4.0.0,>=3.7.4->together) (1.4.1)\n",
            "Requirement already satisfied: async-timeout<5.0,>=4.0 in /Users/alenachan/Library/Python/3.9/lib/python/site-packages (from aiohttp<4.0.0,>=3.7.4->together) (4.0.3)\n",
            "Requirement already satisfied: attrs>=17.3.0 in /Users/alenachan/Library/Python/3.9/lib/python/site-packages (from aiohttp<4.0.0,>=3.7.4->together) (23.2.0)\n",
            "Requirement already satisfied: aiosignal>=1.1.2 in /Users/alenachan/Library/Python/3.9/lib/python/site-packages (from aiohttp<4.0.0,>=3.7.4->together) (1.3.1)\n",
            "Requirement already satisfied: typing-extensions>=4.6.1 in /Users/alenachan/Library/Python/3.9/lib/python/site-packages (from pydantic<3.0.0,>=2.5.0->together) (4.9.0)\n",
            "Collecting pydantic-core==2.16.2\n",
            "  Downloading pydantic_core-2.16.2-cp39-cp39-macosx_11_0_arm64.whl (1.8 MB)\n",
            "\u001b[K     |████████████████████████████████| 1.8 MB 34.7 MB/s eta 0:00:01\n",
            "\u001b[?25hRequirement already satisfied: annotated-types>=0.4.0 in /Users/alenachan/Library/Python/3.9/lib/python/site-packages (from pydantic<3.0.0,>=2.5.0->together) (0.6.0)\n",
            "Requirement already satisfied: certifi>=2017.4.17 in /Users/alenachan/Library/Python/3.9/lib/python/site-packages (from requests<3.0.0,>=2.31.0->together) (2024.2.2)\n",
            "Requirement already satisfied: urllib3<3,>=1.21.1 in /Users/alenachan/Library/Python/3.9/lib/python/site-packages (from requests<3.0.0,>=2.31.0->together) (1.26.18)\n",
            "Requirement already satisfied: charset-normalizer<4,>=2 in /Users/alenachan/Library/Python/3.9/lib/python/site-packages (from requests<3.0.0,>=2.31.0->together) (3.3.2)\n",
            "Requirement already satisfied: idna<4,>=2.5 in /Users/alenachan/Library/Python/3.9/lib/python/site-packages (from requests<3.0.0,>=2.31.0->together) (3.6)\n",
            "Requirement already satisfied: click<9.0.0,>=7.1.1 in /Users/alenachan/Library/Python/3.9/lib/python/site-packages (from typer<0.10.0,>=0.9.0->together) (8.1.7)\n",
            "Installing collected packages: pydantic-core, typer, tabulate, sseclient-py, pydantic, together\n",
            "  Attempting uninstall: pydantic-core\n",
            "    Found existing installation: pydantic-core 2.4.0\n",
            "    Uninstalling pydantic-core-2.4.0:\n",
            "      Successfully uninstalled pydantic-core-2.4.0\n",
            "  Attempting uninstall: pydantic\n",
            "    Found existing installation: pydantic 2.1.1\n",
            "    Uninstalling pydantic-2.1.1:\n",
            "      Successfully uninstalled pydantic-2.1.1\n",
            "\u001b[31mERROR: pip's dependency resolver does not currently take into account all the packages that are installed. This behaviour is the source of the following dependency conflicts.\n",
            "lightning 2.0.9.post0 requires pydantic<2.2.0,>=1.7.4, but you have pydantic 2.6.1 which is incompatible.\u001b[0m\n",
            "Successfully installed pydantic-2.6.1 pydantic-core-2.16.2 sseclient-py-1.8.0 tabulate-0.9.0 together-0.2.11 typer-0.9.0\n",
            "\u001b[33mWARNING: You are using pip version 21.2.4; however, version 24.0 is available.\n",
            "You should consider upgrading via the '/Library/Developer/CommandLineTools/usr/bin/python3 -m pip install --upgrade pip' command.\u001b[0m\n",
            "Note: you may need to restart the kernel to use updated packages.\n"
          ]
        }
      ],
      "source": [
        "pip install together"
      ]
    },
    {
      "cell_type": "code",
      "execution_count": 16,
      "metadata": {
        "id": "DDhXurXiIBUs"
      },
      "outputs": [],
      "source": [
        "import together\n",
        "import base64\n",
        "from setup import IMAGE_TOGETHER_API_KEY\n",
        "\n",
        "together.api_key = IMAGE_TOGETHER_API_KEY\n",
        "\n",
        "obj = \"toothbrush\"\n",
        "# prompt =\"one isolated, standalone \" + obj + \"at the center of image; in the box. high-resolution, accurate, colored, detailed representation, real life. Image borders should be empty\"\n",
        "prompt =\"one isolated, standalone \" + obj + \"on countertop. close-up, high-resolution, accurate, colored, detailed representation, real life. Image borders should be empty\"\n",
        "\n",
        "# generate image. don't change height and width\n",
        "response = together.Image.create(prompt=prompt, model=\"stabilityai/stable-diffusion-xl-base-1.0\", height=1024, width=1024, results=1)\n",
        "\n",
        "# save the image\n",
        "image = response[\"output\"][\"choices\"][0]\n",
        "with open(\"img.png\", \"wb\") as f:\n",
        "    f.write(base64.b64decode(image[\"image_base64\"]))"
      ]
    }
  ],
  "metadata": {
    "colab": {
      "provenance": []
    },
    "kernelspec": {
      "display_name": "Python 3",
      "name": "python3"
    },
    "language_info": {
      "codemirror_mode": {
        "name": "ipython",
        "version": 3
      },
      "file_extension": ".py",
      "mimetype": "text/x-python",
      "name": "python",
      "nbconvert_exporter": "python",
      "pygments_lexer": "ipython3",
      "version": "3.9.6"
    }
  },
  "nbformat": 4,
  "nbformat_minor": 0
}
